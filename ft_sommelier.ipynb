{
 "cells": [
  {
   "cell_type": "markdown",
   "metadata": {},
   "source": [
    "# FT_SOMMELIER"
   ]
  },
  {
   "cell_type": "code",
   "execution_count": 1,
   "metadata": {},
   "outputs": [],
   "source": [
    "import pandas as pd\n",
    "import matplotlib.pyplot as plt"
   ]
  },
  {
   "cell_type": "code",
   "execution_count": 2,
   "metadata": {},
   "outputs": [],
   "source": [
    "red_wine_df = pd.read_csv(\"/nfs/2018/t/tholzheu/42_program/git_ft_sommelier/resources/winequality-red.csv\", sep=';')\n",
    "white_wine_df = pd.read_csv(\"/nfs/2018/t/tholzheu/42_program/git_ft_sommelier/resources/winequality-white.csv\", sep=';')\n",
    "\n",
    "# my computer\n",
    "\n",
    "#red_wine_df = pd.read_csv(\"/home/thomas/42/github/ft_sommelier/resources/winequality-red.csv\", sep=';')\n",
    "#white_wine_df = pd.read_csv(\"/home/thomas/42/github/ft_sommelier/resources/winequality-white.csv\", sep=';')"
   ]
  },
  {
   "cell_type": "code",
   "execution_count": 3,
   "metadata": {},
   "outputs": [
    {
     "name": "stdout",
     "output_type": "stream",
     "text": [
      "1599\n"
     ]
    },
    {
     "data": {
      "text/html": [
       "<div>\n",
       "<style scoped>\n",
       "    .dataframe tbody tr th:only-of-type {\n",
       "        vertical-align: middle;\n",
       "    }\n",
       "\n",
       "    .dataframe tbody tr th {\n",
       "        vertical-align: top;\n",
       "    }\n",
       "\n",
       "    .dataframe thead th {\n",
       "        text-align: right;\n",
       "    }\n",
       "</style>\n",
       "<table border=\"1\" class=\"dataframe\">\n",
       "  <thead>\n",
       "    <tr style=\"text-align: right;\">\n",
       "      <th></th>\n",
       "      <th>fixed acidity</th>\n",
       "      <th>volatile acidity</th>\n",
       "      <th>citric acid</th>\n",
       "      <th>residual sugar</th>\n",
       "      <th>chlorides</th>\n",
       "      <th>free sulfur dioxide</th>\n",
       "      <th>total sulfur dioxide</th>\n",
       "      <th>density</th>\n",
       "      <th>pH</th>\n",
       "      <th>sulphates</th>\n",
       "      <th>alcohol</th>\n",
       "      <th>quality</th>\n",
       "    </tr>\n",
       "  </thead>\n",
       "  <tbody>\n",
       "    <tr>\n",
       "      <th>0</th>\n",
       "      <td>7.4</td>\n",
       "      <td>0.70</td>\n",
       "      <td>0.00</td>\n",
       "      <td>1.9</td>\n",
       "      <td>0.076</td>\n",
       "      <td>11.0</td>\n",
       "      <td>34.0</td>\n",
       "      <td>0.9978</td>\n",
       "      <td>3.51</td>\n",
       "      <td>0.56</td>\n",
       "      <td>9.4</td>\n",
       "      <td>5</td>\n",
       "    </tr>\n",
       "    <tr>\n",
       "      <th>1</th>\n",
       "      <td>7.8</td>\n",
       "      <td>0.88</td>\n",
       "      <td>0.00</td>\n",
       "      <td>2.6</td>\n",
       "      <td>0.098</td>\n",
       "      <td>25.0</td>\n",
       "      <td>67.0</td>\n",
       "      <td>0.9968</td>\n",
       "      <td>3.20</td>\n",
       "      <td>0.68</td>\n",
       "      <td>9.8</td>\n",
       "      <td>5</td>\n",
       "    </tr>\n",
       "    <tr>\n",
       "      <th>2</th>\n",
       "      <td>7.8</td>\n",
       "      <td>0.76</td>\n",
       "      <td>0.04</td>\n",
       "      <td>2.3</td>\n",
       "      <td>0.092</td>\n",
       "      <td>15.0</td>\n",
       "      <td>54.0</td>\n",
       "      <td>0.9970</td>\n",
       "      <td>3.26</td>\n",
       "      <td>0.65</td>\n",
       "      <td>9.8</td>\n",
       "      <td>5</td>\n",
       "    </tr>\n",
       "    <tr>\n",
       "      <th>3</th>\n",
       "      <td>11.2</td>\n",
       "      <td>0.28</td>\n",
       "      <td>0.56</td>\n",
       "      <td>1.9</td>\n",
       "      <td>0.075</td>\n",
       "      <td>17.0</td>\n",
       "      <td>60.0</td>\n",
       "      <td>0.9980</td>\n",
       "      <td>3.16</td>\n",
       "      <td>0.58</td>\n",
       "      <td>9.8</td>\n",
       "      <td>6</td>\n",
       "    </tr>\n",
       "    <tr>\n",
       "      <th>4</th>\n",
       "      <td>7.4</td>\n",
       "      <td>0.70</td>\n",
       "      <td>0.00</td>\n",
       "      <td>1.9</td>\n",
       "      <td>0.076</td>\n",
       "      <td>11.0</td>\n",
       "      <td>34.0</td>\n",
       "      <td>0.9978</td>\n",
       "      <td>3.51</td>\n",
       "      <td>0.56</td>\n",
       "      <td>9.4</td>\n",
       "      <td>5</td>\n",
       "    </tr>\n",
       "  </tbody>\n",
       "</table>\n",
       "</div>"
      ],
      "text/plain": [
       "   fixed acidity  volatile acidity  citric acid  residual sugar  chlorides  \\\n",
       "0            7.4              0.70         0.00             1.9      0.076   \n",
       "1            7.8              0.88         0.00             2.6      0.098   \n",
       "2            7.8              0.76         0.04             2.3      0.092   \n",
       "3           11.2              0.28         0.56             1.9      0.075   \n",
       "4            7.4              0.70         0.00             1.9      0.076   \n",
       "\n",
       "   free sulfur dioxide  total sulfur dioxide  density    pH  sulphates  \\\n",
       "0                 11.0                  34.0   0.9978  3.51       0.56   \n",
       "1                 25.0                  67.0   0.9968  3.20       0.68   \n",
       "2                 15.0                  54.0   0.9970  3.26       0.65   \n",
       "3                 17.0                  60.0   0.9980  3.16       0.58   \n",
       "4                 11.0                  34.0   0.9978  3.51       0.56   \n",
       "\n",
       "   alcohol  quality  \n",
       "0      9.4        5  \n",
       "1      9.8        5  \n",
       "2      9.8        5  \n",
       "3      9.8        6  \n",
       "4      9.4        5  "
      ]
     },
     "execution_count": 3,
     "metadata": {},
     "output_type": "execute_result"
    }
   ],
   "source": [
    "print(len(red_wine_df))\n",
    "red_wine_df.head()"
   ]
  },
  {
   "cell_type": "code",
   "execution_count": 4,
   "metadata": {},
   "outputs": [
    {
     "data": {
      "text/html": [
       "<div>\n",
       "<style scoped>\n",
       "    .dataframe tbody tr th:only-of-type {\n",
       "        vertical-align: middle;\n",
       "    }\n",
       "\n",
       "    .dataframe tbody tr th {\n",
       "        vertical-align: top;\n",
       "    }\n",
       "\n",
       "    .dataframe thead th {\n",
       "        text-align: right;\n",
       "    }\n",
       "</style>\n",
       "<table border=\"1\" class=\"dataframe\">\n",
       "  <thead>\n",
       "    <tr style=\"text-align: right;\">\n",
       "      <th></th>\n",
       "      <th>fixed acidity</th>\n",
       "      <th>volatile acidity</th>\n",
       "      <th>citric acid</th>\n",
       "      <th>residual sugar</th>\n",
       "      <th>chlorides</th>\n",
       "      <th>free sulfur dioxide</th>\n",
       "      <th>total sulfur dioxide</th>\n",
       "      <th>density</th>\n",
       "      <th>pH</th>\n",
       "      <th>sulphates</th>\n",
       "      <th>alcohol</th>\n",
       "      <th>quality</th>\n",
       "    </tr>\n",
       "  </thead>\n",
       "  <tbody>\n",
       "    <tr>\n",
       "      <th>0</th>\n",
       "      <td>7.0</td>\n",
       "      <td>0.27</td>\n",
       "      <td>0.36</td>\n",
       "      <td>20.7</td>\n",
       "      <td>0.045</td>\n",
       "      <td>45.0</td>\n",
       "      <td>170.0</td>\n",
       "      <td>1.0010</td>\n",
       "      <td>3.00</td>\n",
       "      <td>0.45</td>\n",
       "      <td>8.8</td>\n",
       "      <td>6</td>\n",
       "    </tr>\n",
       "    <tr>\n",
       "      <th>1</th>\n",
       "      <td>6.3</td>\n",
       "      <td>0.30</td>\n",
       "      <td>0.34</td>\n",
       "      <td>1.6</td>\n",
       "      <td>0.049</td>\n",
       "      <td>14.0</td>\n",
       "      <td>132.0</td>\n",
       "      <td>0.9940</td>\n",
       "      <td>3.30</td>\n",
       "      <td>0.49</td>\n",
       "      <td>9.5</td>\n",
       "      <td>6</td>\n",
       "    </tr>\n",
       "    <tr>\n",
       "      <th>2</th>\n",
       "      <td>8.1</td>\n",
       "      <td>0.28</td>\n",
       "      <td>0.40</td>\n",
       "      <td>6.9</td>\n",
       "      <td>0.050</td>\n",
       "      <td>30.0</td>\n",
       "      <td>97.0</td>\n",
       "      <td>0.9951</td>\n",
       "      <td>3.26</td>\n",
       "      <td>0.44</td>\n",
       "      <td>10.1</td>\n",
       "      <td>6</td>\n",
       "    </tr>\n",
       "    <tr>\n",
       "      <th>3</th>\n",
       "      <td>7.2</td>\n",
       "      <td>0.23</td>\n",
       "      <td>0.32</td>\n",
       "      <td>8.5</td>\n",
       "      <td>0.058</td>\n",
       "      <td>47.0</td>\n",
       "      <td>186.0</td>\n",
       "      <td>0.9956</td>\n",
       "      <td>3.19</td>\n",
       "      <td>0.40</td>\n",
       "      <td>9.9</td>\n",
       "      <td>6</td>\n",
       "    </tr>\n",
       "    <tr>\n",
       "      <th>4</th>\n",
       "      <td>7.2</td>\n",
       "      <td>0.23</td>\n",
       "      <td>0.32</td>\n",
       "      <td>8.5</td>\n",
       "      <td>0.058</td>\n",
       "      <td>47.0</td>\n",
       "      <td>186.0</td>\n",
       "      <td>0.9956</td>\n",
       "      <td>3.19</td>\n",
       "      <td>0.40</td>\n",
       "      <td>9.9</td>\n",
       "      <td>6</td>\n",
       "    </tr>\n",
       "  </tbody>\n",
       "</table>\n",
       "</div>"
      ],
      "text/plain": [
       "   fixed acidity  volatile acidity  citric acid  residual sugar  chlorides  \\\n",
       "0            7.0              0.27         0.36            20.7      0.045   \n",
       "1            6.3              0.30         0.34             1.6      0.049   \n",
       "2            8.1              0.28         0.40             6.9      0.050   \n",
       "3            7.2              0.23         0.32             8.5      0.058   \n",
       "4            7.2              0.23         0.32             8.5      0.058   \n",
       "\n",
       "   free sulfur dioxide  total sulfur dioxide  density    pH  sulphates  \\\n",
       "0                 45.0                 170.0   1.0010  3.00       0.45   \n",
       "1                 14.0                 132.0   0.9940  3.30       0.49   \n",
       "2                 30.0                  97.0   0.9951  3.26       0.44   \n",
       "3                 47.0                 186.0   0.9956  3.19       0.40   \n",
       "4                 47.0                 186.0   0.9956  3.19       0.40   \n",
       "\n",
       "   alcohol  quality  \n",
       "0      8.8        6  \n",
       "1      9.5        6  \n",
       "2     10.1        6  \n",
       "3      9.9        6  \n",
       "4      9.9        6  "
      ]
     },
     "execution_count": 4,
     "metadata": {},
     "output_type": "execute_result"
    }
   ],
   "source": [
    "white_wine_df.head()"
   ]
  },
  {
   "cell_type": "markdown",
   "metadata": {},
   "source": [
    "### V.1 Exploring the green reds"
   ]
  },
  {
   "cell_type": "markdown",
   "metadata": {},
   "source": [
    "#### a) Plot scatter matrix function"
   ]
  },
  {
   "cell_type": "code",
   "execution_count": 5,
   "metadata": {},
   "outputs": [],
   "source": [
    "def plot_scatter_matrix(wine_data, good_threshold, bad_threshold, save_plot=False, name=''):\n",
    "    fig, axmat = plt.subplots(12, 12, figsize=(20, 20))\n",
    "    for axrow in axmat:\n",
    "        for ax in axrow:\n",
    "            ax.set_xticks([])\n",
    "            ax.set_yticks([])\n",
    "    plt.subplots_adjust(wspace=0, hspace=0)\n",
    "    h_list = red_wine_df.columns.values\n",
    "    for i in range(len(h_list)):\n",
    "        for j in range(len(h_list)):\n",
    "            plt.sca(axmat[i][j])\n",
    "            if (i == j):\n",
    "                plt.text(0.5, 0.5, h_list[j].replace(' ', '\\n'), fontsize=16, ha='center', va='center')\n",
    "            else:\n",
    "                plt.scatter(red_wine_df[h_list[j]][red_wine_df['quality'] > good_threshold],\n",
    "                            red_wine_df[h_list[i]][red_wine_df['quality'] > good_threshold], s=3, c='g')\n",
    "                plt.scatter(red_wine_df[h_list[j]][red_wine_df['quality'] < bad_threshold],\n",
    "                            red_wine_df[h_list[i]][red_wine_df['quality'] < bad_threshold], s=3, c='m')\n",
    "    if (save_plot):\n",
    "        plt.savefig(name + 'Plt.png') # bbox_inches='tight' to remove white space around\n",
    "    plt.show()"
   ]
  },
  {
   "cell_type": "code",
   "execution_count": null,
   "metadata": {},
   "outputs": [],
   "source": [
    "plot_scatter_matrix(red_wine_df, 7, 4)"
   ]
  },
  {
   "cell_type": "markdown",
   "metadata": {},
   "source": [
    "#### b) Which factors do you think will be most useful for distinguishing high vs low quality wines"
   ]
  },
  {
   "cell_type": "markdown",
   "metadata": {},
   "source": [
    "At a first glance I see that sulphates and alcohol have a clearer division when it comes to quality.\n",
    "We can see in the figure that in most cases a higher alcohol quantity and a higher level of sulphates results\n",
    "in a beter quality wine. This is the case when comparing high quality wines (8 or higher) vs low quality wines\n",
    "(3 or lower)"
   ]
  },
  {
   "cell_type": "markdown",
   "metadata": {},
   "source": [
    "### V.2 Learning to perceptron"
   ]
  },
  {
   "cell_type": "markdown",
   "metadata": {},
   "source": [
    "#### a) & b) Perceptron implementation and training"
   ]
  },
  {
   "cell_type": "code",
   "execution_count": 6,
   "metadata": {},
   "outputs": [],
   "source": [
    "import random\n",
    "\n",
    "def heaviside_step_fn(nb):\n",
    "    if (nb < 0):\n",
    "        return (0)\n",
    "    elif (nb >= 0):\n",
    "        return (1)\n",
    "\n",
    "def dot_prod(v1, v2):\n",
    "    return (sum([x * y for x, y in zip(v1, v2)]))\n",
    "\n",
    "def vec_add(v1, v2):\n",
    "    return ([round(x + y, 2) for x, y in zip(v1, v2)])\n",
    "    \n",
    "def vec_sub(v1, v2):\n",
    "    return ([round(x - y, 2) for x, y in zip(v1, v2)])\n",
    "\n",
    "def vec_scale(v, scalar):\n",
    "    return ([i * scalar for i in v])\n",
    "\n",
    "def select_features_labels(df):\n",
    "    tmp = red_wine_df[['pH', 'density', 'quality']][(red_wine_df['quality'] >= 8) | (red_wine_df['quality'] <=3)]\n",
    "    tmp['quality'].where(tmp['quality'] <= 3, 1, inplace=True) # Replace quality 8 and above with 1\n",
    "    tmp['quality'].where(tmp['quality'] == 1, 0, inplace=True) # and quality 3 and below with 0\n",
    "    features = tmp[['pH', 'density']]\n",
    "    labels = tmp[['quality']]\n",
    "    features = [list(features[item]) for item in features]\n",
    "    labels = [list(labels[item]) for item in labels]\n",
    "    labels = labels[0]\n",
    "    return (features, labels) # returns a list of lists containing the values of each feature\n",
    "\n",
    "def update_weights(w, x, y, l_rate):\n",
    "    update = False\n",
    "    if (heaviside_step_fn(dot_prod(w, x)) == 1 and y == 0):\n",
    "        update = True\n",
    "        w = vec_sub(w, vec_scale(x, l_rate)) # w = w - lr * x\n",
    "    elif (heaviside_step_fn(dot_prod(w, x)) == 0 and y == 1):\n",
    "        update = True\n",
    "        w = vec_add(w, vec_scale(x, l_rate)) # w = w + lr * x\n",
    "    return (w, update)\n",
    "    \n",
    "def perceptron_trainer(wine_data, l_rate, epochs):\n",
    "    features, labels = select_features_labels(wine_data)\n",
    "    train_until_convergence = False\n",
    "    epoch_count = 0\n",
    "    info = []\n",
    "    if (epochs == 0):\n",
    "        train_until_convergence = True # train until convergence if epochs is 0\n",
    "        epochs = 1 # epoch_count < epochs so it enter the loop\n",
    "    converged = False\n",
    "    w = [0, 0, 0] # w[0] is the bias\n",
    "    for i in range(3):\n",
    "        w[i] = round(random.uniform(-4, 4), 2) # init random weights between -4 and 4\n",
    "    while (not converged and epoch_count < epochs):\n",
    "        converged = True\n",
    "        errors_at_epoch = 0\n",
    "        for x1, x2, y in zip(features[0], features[1], labels):\n",
    "            x = [1, x1, x2]\n",
    "            w, update = update_weights(w, x, y, l_rate)\n",
    "            if (update == True): # if there was no update in the whole dataset that means our model has converged\n",
    "                converged = False\n",
    "                errors_at_epoch += 1\n",
    "        info.append((epoch_count, errors_at_epoch, w))\n",
    "        epoch_count += 1\n",
    "        if (train_until_convergence == True):\n",
    "            epochs = epoch_count + 1 # we don't want to stop training until convergence\n",
    "    return (info)"
   ]
  },
  {
   "cell_type": "code",
   "execution_count": 7,
   "metadata": {},
   "outputs": [],
   "source": [
    "info = perceptron_trainer(red_wine_df, l_rate=0.9, epochs=20000)"
   ]
  },
  {
   "cell_type": "markdown",
   "metadata": {},
   "source": [
    "#### c) Plot perceptron performance"
   ]
  },
  {
   "cell_type": "code",
   "execution_count": 87,
   "metadata": {},
   "outputs": [],
   "source": [
    "def plot_perceptron_performance(wine_data, info, good_threshold, bad_threshold, epoch=-1, save_plot=False, name=''):\n",
    "    fig, axvec = plt.subplots(1, 2, figsize=(15, 5))\n",
    "    if (epoch >= 0):\n",
    "        info = info[: epoch + 1]\n",
    "    else:\n",
    "        epoch = info[-1][0]\n",
    "    df = pd.DataFrame(info)\n",
    "    \n",
    "    plt.sca(axvec[0])\n",
    "    plt.plot(df[0], df[1])\n",
    "    plt.xlabel('epoch')\n",
    "    plt.ylabel('classification errors')\n",
    "    plt.title('Error as a function of epoch')\n",
    "    \n",
    "    plt.sca(axvec[1])\n",
    "    good = plt.scatter(red_wine_df['alcohol'][red_wine_df['quality'] > good_threshold],\n",
    "                red_wine_df['pH'][red_wine_df['quality'] > good_threshold], s=15, c='g')\n",
    "    bad = plt.scatter(red_wine_df['alcohol'][red_wine_df['quality'] < bad_threshold],\n",
    "                red_wine_df['pH'][red_wine_df['quality'] < bad_threshold], s=15, c='m')\n",
    "    plt.legend((good, bad), ('good wines (> %d score)' % good_threshold, 'bad wines (< %d score)' % bad_threshold), loc=(1.01, 0.88))\n",
    "    plt.xlabel('alcohol')\n",
    "    plt.ylabel('pH')\n",
    "    plt.title('Decision boundary on epoch %d' % epoch )\n",
    "    x_list = list(range(8, 15))\n",
    "    w = info[-1][2]\n",
    "    #y = (-1 * w[1] / w[2]) * x_list + (-1 * w[0] / w[2]) # this is just math. source: https://medium.com/@thomascountz/calculate-the-decision-boundary-of-a-single-perceptron-visualizing-linear-separability-c4d77099ef38\n",
    "    #plt.plot(x_list, y)\n",
    "    \n",
    "    plt.show()"
   ]
  },
  {
   "cell_type": "code",
   "execution_count": 88,
   "metadata": {},
   "outputs": [
    {
     "data": {
      "image/png": "[encoded data removed]",
      "text/plain": [
       "<Figure size 1080x360 with 2 Axes>"
      ]
     },
     "metadata": {
      "needs_background": "light"
     },
     "output_type": "display_data"
    }
   ],
   "source": [
    "plot_perceptron_performance(red_wine_df, info, 7, 4)"
   ]
  },
  {
   "cell_type": "code",
   "execution_count": null,
   "metadata": {},
   "outputs": [],
   "source": []
  }
 ],
 "metadata": {
  "kernelspec": {
   "display_name": "Python 3",
   "language": "python",
   "name": "python3"
  },
  "language_info": {
   "codemirror_mode": {
    "name": "ipython",
    "version": 3
   },
   "file_extension": ".py",
   "mimetype": "text/x-python",
   "name": "python",
   "nbconvert_exporter": "python",
   "pygments_lexer": "ipython3",
   "version": "3.7.1"
  }
 },
 "nbformat": 4,
 "nbformat_minor": 2
}
